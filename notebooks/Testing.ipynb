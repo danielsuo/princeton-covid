{
 "cells": [
  {
   "cell_type": "code",
   "execution_count": 2,
   "metadata": {},
   "outputs": [],
   "source": [
    "%load_ext autoreload\n",
    "%autoreload 2\n",
    "\n",
    "import numpy as np\n",
    "import pandas as pd\n",
    "import matplotlib.pyplot as plt\n",
    "    \n",
    "import provid"
   ]
  },
  {
   "cell_type": "code",
   "execution_count": 3,
   "metadata": {},
   "outputs": [],
   "source": [
    "from provid.source import download_all"
   ]
  },
  {
   "cell_type": "code",
   "execution_count": 5,
   "metadata": {},
   "outputs": [
    {
     "name": "stdout",
     "output_type": "stream",
     "text": [
      "Downloading national_patient...\n",
      "Downloading county_case...\n",
      "Downloading county_death...\n",
      "Downloading county_population...\n",
      "Downloading princeton...\n"
     ]
    }
   ],
   "source": [
    "srcs = download_all()"
   ]
  },
  {
   "cell_type": "code",
   "execution_count": 6,
   "metadata": {},
   "outputs": [
    {
     "name": "stderr",
     "output_type": "stream",
     "text": [
      "/Users/dsuo/miniconda3/envs/provid/lib/python3.8/site-packages/IPython/core/interactiveshell.py:3263: DtypeWarning: Columns (1) have mixed types.Specify dtype option on import or set low_memory=False.\n",
      "  if (await self.run_code(code, result,  async_=asy)):\n"
     ]
    }
   ],
   "source": [
    "for name, src in srcs.items():\n",
    "    src.parse()"
   ]
  },
  {
   "cell_type": "markdown",
   "metadata": {},
   "source": [
    "# National aggregate data"
   ]
  },
  {
   "cell_type": "code",
   "execution_count": 7,
   "metadata": {},
   "outputs": [
    {
     "data": {
      "text/html": [
       "<div>\n",
       "<style scoped>\n",
       "    .dataframe tbody tr th:only-of-type {\n",
       "        vertical-align: middle;\n",
       "    }\n",
       "\n",
       "    .dataframe tbody tr th {\n",
       "        vertical-align: top;\n",
       "    }\n",
       "\n",
       "    .dataframe thead th {\n",
       "        text-align: right;\n",
       "    }\n",
       "</style>\n",
       "<table border=\"1\" class=\"dataframe\">\n",
       "  <thead>\n",
       "    <tr style=\"text-align: right;\">\n",
       "      <th></th>\n",
       "      <th>countyFIPS</th>\n",
       "      <th>County Name</th>\n",
       "      <th>State</th>\n",
       "      <th>stateFIPS</th>\n",
       "      <th>1/22/20</th>\n",
       "      <th>1/23/20</th>\n",
       "      <th>1/24/20</th>\n",
       "      <th>1/25/20</th>\n",
       "      <th>1/26/20</th>\n",
       "      <th>1/27/20</th>\n",
       "      <th>...</th>\n",
       "      <th>7/26/20</th>\n",
       "      <th>7/27/20</th>\n",
       "      <th>7/28/20</th>\n",
       "      <th>7/29/20</th>\n",
       "      <th>7/30/20</th>\n",
       "      <th>7/31/20</th>\n",
       "      <th>8/1/20</th>\n",
       "      <th>8/2/20</th>\n",
       "      <th>8/3/20</th>\n",
       "      <th>8/4/20</th>\n",
       "    </tr>\n",
       "  </thead>\n",
       "  <tbody>\n",
       "    <tr>\n",
       "      <th>0</th>\n",
       "      <td>0</td>\n",
       "      <td>Statewide Unallocated</td>\n",
       "      <td>AL</td>\n",
       "      <td>1</td>\n",
       "      <td>0</td>\n",
       "      <td>0</td>\n",
       "      <td>0</td>\n",
       "      <td>0</td>\n",
       "      <td>0</td>\n",
       "      <td>0</td>\n",
       "      <td>...</td>\n",
       "      <td>0</td>\n",
       "      <td>0</td>\n",
       "      <td>0</td>\n",
       "      <td>0</td>\n",
       "      <td>0</td>\n",
       "      <td>0</td>\n",
       "      <td>0</td>\n",
       "      <td>0</td>\n",
       "      <td>0</td>\n",
       "      <td>0</td>\n",
       "    </tr>\n",
       "    <tr>\n",
       "      <th>1</th>\n",
       "      <td>1001</td>\n",
       "      <td>Autauga County</td>\n",
       "      <td>AL</td>\n",
       "      <td>1</td>\n",
       "      <td>0</td>\n",
       "      <td>0</td>\n",
       "      <td>0</td>\n",
       "      <td>0</td>\n",
       "      <td>0</td>\n",
       "      <td>0</td>\n",
       "      <td>...</td>\n",
       "      <td>942</td>\n",
       "      <td>965</td>\n",
       "      <td>974</td>\n",
       "      <td>974</td>\n",
       "      <td>1002</td>\n",
       "      <td>1015</td>\n",
       "      <td>1030</td>\n",
       "      <td>1052</td>\n",
       "      <td>1066</td>\n",
       "      <td>1073</td>\n",
       "    </tr>\n",
       "    <tr>\n",
       "      <th>2</th>\n",
       "      <td>1003</td>\n",
       "      <td>Baldwin County</td>\n",
       "      <td>AL</td>\n",
       "      <td>1</td>\n",
       "      <td>0</td>\n",
       "      <td>0</td>\n",
       "      <td>0</td>\n",
       "      <td>0</td>\n",
       "      <td>0</td>\n",
       "      <td>0</td>\n",
       "      <td>...</td>\n",
       "      <td>2708</td>\n",
       "      <td>2770</td>\n",
       "      <td>2835</td>\n",
       "      <td>2835</td>\n",
       "      <td>3028</td>\n",
       "      <td>3101</td>\n",
       "      <td>3142</td>\n",
       "      <td>3223</td>\n",
       "      <td>3265</td>\n",
       "      <td>3320</td>\n",
       "    </tr>\n",
       "    <tr>\n",
       "      <th>3</th>\n",
       "      <td>1005</td>\n",
       "      <td>Barbour County</td>\n",
       "      <td>AL</td>\n",
       "      <td>1</td>\n",
       "      <td>0</td>\n",
       "      <td>0</td>\n",
       "      <td>0</td>\n",
       "      <td>0</td>\n",
       "      <td>0</td>\n",
       "      <td>0</td>\n",
       "      <td>...</td>\n",
       "      <td>562</td>\n",
       "      <td>569</td>\n",
       "      <td>575</td>\n",
       "      <td>575</td>\n",
       "      <td>585</td>\n",
       "      <td>598</td>\n",
       "      <td>602</td>\n",
       "      <td>610</td>\n",
       "      <td>612</td>\n",
       "      <td>614</td>\n",
       "    </tr>\n",
       "    <tr>\n",
       "      <th>4</th>\n",
       "      <td>1007</td>\n",
       "      <td>Bibb County</td>\n",
       "      <td>AL</td>\n",
       "      <td>1</td>\n",
       "      <td>0</td>\n",
       "      <td>0</td>\n",
       "      <td>0</td>\n",
       "      <td>0</td>\n",
       "      <td>0</td>\n",
       "      <td>0</td>\n",
       "      <td>...</td>\n",
       "      <td>324</td>\n",
       "      <td>334</td>\n",
       "      <td>337</td>\n",
       "      <td>338</td>\n",
       "      <td>352</td>\n",
       "      <td>363</td>\n",
       "      <td>368</td>\n",
       "      <td>372</td>\n",
       "      <td>382</td>\n",
       "      <td>389</td>\n",
       "    </tr>\n",
       "    <tr>\n",
       "      <th>...</th>\n",
       "      <td>...</td>\n",
       "      <td>...</td>\n",
       "      <td>...</td>\n",
       "      <td>...</td>\n",
       "      <td>...</td>\n",
       "      <td>...</td>\n",
       "      <td>...</td>\n",
       "      <td>...</td>\n",
       "      <td>...</td>\n",
       "      <td>...</td>\n",
       "      <td>...</td>\n",
       "      <td>...</td>\n",
       "      <td>...</td>\n",
       "      <td>...</td>\n",
       "      <td>...</td>\n",
       "      <td>...</td>\n",
       "      <td>...</td>\n",
       "      <td>...</td>\n",
       "      <td>...</td>\n",
       "      <td>...</td>\n",
       "      <td>...</td>\n",
       "    </tr>\n",
       "    <tr>\n",
       "      <th>3190</th>\n",
       "      <td>56037</td>\n",
       "      <td>Sweetwater County</td>\n",
       "      <td>WY</td>\n",
       "      <td>56</td>\n",
       "      <td>0</td>\n",
       "      <td>0</td>\n",
       "      <td>0</td>\n",
       "      <td>0</td>\n",
       "      <td>0</td>\n",
       "      <td>0</td>\n",
       "      <td>...</td>\n",
       "      <td>215</td>\n",
       "      <td>221</td>\n",
       "      <td>228</td>\n",
       "      <td>234</td>\n",
       "      <td>237</td>\n",
       "      <td>240</td>\n",
       "      <td>242</td>\n",
       "      <td>247</td>\n",
       "      <td>250</td>\n",
       "      <td>251</td>\n",
       "    </tr>\n",
       "    <tr>\n",
       "      <th>3191</th>\n",
       "      <td>56039</td>\n",
       "      <td>Teton County</td>\n",
       "      <td>WY</td>\n",
       "      <td>56</td>\n",
       "      <td>0</td>\n",
       "      <td>0</td>\n",
       "      <td>0</td>\n",
       "      <td>0</td>\n",
       "      <td>0</td>\n",
       "      <td>0</td>\n",
       "      <td>...</td>\n",
       "      <td>279</td>\n",
       "      <td>292</td>\n",
       "      <td>311</td>\n",
       "      <td>318</td>\n",
       "      <td>331</td>\n",
       "      <td>335</td>\n",
       "      <td>348</td>\n",
       "      <td>354</td>\n",
       "      <td>358</td>\n",
       "      <td>362</td>\n",
       "    </tr>\n",
       "    <tr>\n",
       "      <th>3192</th>\n",
       "      <td>56041</td>\n",
       "      <td>Uinta County</td>\n",
       "      <td>WY</td>\n",
       "      <td>56</td>\n",
       "      <td>0</td>\n",
       "      <td>0</td>\n",
       "      <td>0</td>\n",
       "      <td>0</td>\n",
       "      <td>0</td>\n",
       "      <td>0</td>\n",
       "      <td>...</td>\n",
       "      <td>233</td>\n",
       "      <td>235</td>\n",
       "      <td>243</td>\n",
       "      <td>245</td>\n",
       "      <td>247</td>\n",
       "      <td>254</td>\n",
       "      <td>259</td>\n",
       "      <td>262</td>\n",
       "      <td>265</td>\n",
       "      <td>267</td>\n",
       "    </tr>\n",
       "    <tr>\n",
       "      <th>3193</th>\n",
       "      <td>56043</td>\n",
       "      <td>Washakie County</td>\n",
       "      <td>WY</td>\n",
       "      <td>56</td>\n",
       "      <td>0</td>\n",
       "      <td>0</td>\n",
       "      <td>0</td>\n",
       "      <td>0</td>\n",
       "      <td>0</td>\n",
       "      <td>0</td>\n",
       "      <td>...</td>\n",
       "      <td>45</td>\n",
       "      <td>45</td>\n",
       "      <td>45</td>\n",
       "      <td>45</td>\n",
       "      <td>46</td>\n",
       "      <td>48</td>\n",
       "      <td>49</td>\n",
       "      <td>49</td>\n",
       "      <td>49</td>\n",
       "      <td>54</td>\n",
       "    </tr>\n",
       "    <tr>\n",
       "      <th>3194</th>\n",
       "      <td>56045</td>\n",
       "      <td>Weston County</td>\n",
       "      <td>WY</td>\n",
       "      <td>56</td>\n",
       "      <td>0</td>\n",
       "      <td>0</td>\n",
       "      <td>0</td>\n",
       "      <td>0</td>\n",
       "      <td>0</td>\n",
       "      <td>0</td>\n",
       "      <td>...</td>\n",
       "      <td>4</td>\n",
       "      <td>5</td>\n",
       "      <td>5</td>\n",
       "      <td>5</td>\n",
       "      <td>5</td>\n",
       "      <td>5</td>\n",
       "      <td>5</td>\n",
       "      <td>5</td>\n",
       "      <td>5</td>\n",
       "      <td>5</td>\n",
       "    </tr>\n",
       "  </tbody>\n",
       "</table>\n",
       "<p>3195 rows × 200 columns</p>\n",
       "</div>"
      ],
      "text/plain": [
       "      countyFIPS            County Name State  stateFIPS  1/22/20  1/23/20  \\\n",
       "0              0  Statewide Unallocated    AL          1        0        0   \n",
       "1           1001         Autauga County    AL          1        0        0   \n",
       "2           1003         Baldwin County    AL          1        0        0   \n",
       "3           1005         Barbour County    AL          1        0        0   \n",
       "4           1007            Bibb County    AL          1        0        0   \n",
       "...          ...                    ...   ...        ...      ...      ...   \n",
       "3190       56037      Sweetwater County    WY         56        0        0   \n",
       "3191       56039           Teton County    WY         56        0        0   \n",
       "3192       56041           Uinta County    WY         56        0        0   \n",
       "3193       56043        Washakie County    WY         56        0        0   \n",
       "3194       56045          Weston County    WY         56        0        0   \n",
       "\n",
       "      1/24/20  1/25/20  1/26/20  1/27/20  ...  7/26/20  7/27/20  7/28/20  \\\n",
       "0           0        0        0        0  ...        0        0        0   \n",
       "1           0        0        0        0  ...      942      965      974   \n",
       "2           0        0        0        0  ...     2708     2770     2835   \n",
       "3           0        0        0        0  ...      562      569      575   \n",
       "4           0        0        0        0  ...      324      334      337   \n",
       "...       ...      ...      ...      ...  ...      ...      ...      ...   \n",
       "3190        0        0        0        0  ...      215      221      228   \n",
       "3191        0        0        0        0  ...      279      292      311   \n",
       "3192        0        0        0        0  ...      233      235      243   \n",
       "3193        0        0        0        0  ...       45       45       45   \n",
       "3194        0        0        0        0  ...        4        5        5   \n",
       "\n",
       "      7/29/20  7/30/20  7/31/20  8/1/20  8/2/20  8/3/20  8/4/20  \n",
       "0           0        0        0       0       0       0       0  \n",
       "1         974     1002     1015    1030    1052    1066    1073  \n",
       "2        2835     3028     3101    3142    3223    3265    3320  \n",
       "3         575      585      598     602     610     612     614  \n",
       "4         338      352      363     368     372     382     389  \n",
       "...       ...      ...      ...     ...     ...     ...     ...  \n",
       "3190      234      237      240     242     247     250     251  \n",
       "3191      318      331      335     348     354     358     362  \n",
       "3192      245      247      254     259     262     265     267  \n",
       "3193       45       46       48      49      49      49      54  \n",
       "3194        5        5        5       5       5       5       5  \n",
       "\n",
       "[3195 rows x 200 columns]"
      ]
     },
     "execution_count": 7,
     "metadata": {},
     "output_type": "execute_result"
    }
   ],
   "source": [
    "srcs[\"county_case\"].df"
   ]
  },
  {
   "cell_type": "markdown",
   "metadata": {},
   "source": [
    "# National patient data"
   ]
  },
  {
   "cell_type": "code",
   "execution_count": 8,
   "metadata": {},
   "outputs": [
    {
     "data": {
      "text/html": [
       "<div>\n",
       "<style scoped>\n",
       "    .dataframe tbody tr th:only-of-type {\n",
       "        vertical-align: middle;\n",
       "    }\n",
       "\n",
       "    .dataframe tbody tr th {\n",
       "        vertical-align: top;\n",
       "    }\n",
       "\n",
       "    .dataframe thead th {\n",
       "        text-align: right;\n",
       "    }\n",
       "</style>\n",
       "<table border=\"1\" class=\"dataframe\">\n",
       "  <thead>\n",
       "    <tr style=\"text-align: right;\">\n",
       "      <th></th>\n",
       "      <th>cdc_report_dt</th>\n",
       "      <th>pos_spec_dt</th>\n",
       "      <th>onset_dt</th>\n",
       "      <th>current_status</th>\n",
       "      <th>sex</th>\n",
       "      <th>age_group</th>\n",
       "      <th>Race and ethnicity (combined)</th>\n",
       "      <th>hosp_yn</th>\n",
       "      <th>icu_yn</th>\n",
       "      <th>death_yn</th>\n",
       "      <th>medcond_yn</th>\n",
       "    </tr>\n",
       "  </thead>\n",
       "  <tbody>\n",
       "    <tr>\n",
       "      <th>0</th>\n",
       "      <td>2020/07/03</td>\n",
       "      <td>NaN</td>\n",
       "      <td>NaN</td>\n",
       "      <td>Laboratory-confirmed case</td>\n",
       "      <td>Female</td>\n",
       "      <td>0 - 9 Years</td>\n",
       "      <td>American Indian/Alaska Native, Non-Hispanic</td>\n",
       "      <td>Missing</td>\n",
       "      <td>Missing</td>\n",
       "      <td>Missing</td>\n",
       "      <td>Missing</td>\n",
       "    </tr>\n",
       "    <tr>\n",
       "      <th>1</th>\n",
       "      <td>2020/05/27</td>\n",
       "      <td>NaN</td>\n",
       "      <td>NaN</td>\n",
       "      <td>Laboratory-confirmed case</td>\n",
       "      <td>Female</td>\n",
       "      <td>0 - 9 Years</td>\n",
       "      <td>American Indian/Alaska Native, Non-Hispanic</td>\n",
       "      <td>No</td>\n",
       "      <td>Missing</td>\n",
       "      <td>No</td>\n",
       "      <td>Missing</td>\n",
       "    </tr>\n",
       "    <tr>\n",
       "      <th>2</th>\n",
       "      <td>2020/06/06</td>\n",
       "      <td>NaN</td>\n",
       "      <td>NaN</td>\n",
       "      <td>Laboratory-confirmed case</td>\n",
       "      <td>Female</td>\n",
       "      <td>0 - 9 Years</td>\n",
       "      <td>American Indian/Alaska Native, Non-Hispanic</td>\n",
       "      <td>Missing</td>\n",
       "      <td>Missing</td>\n",
       "      <td>Missing</td>\n",
       "      <td>Missing</td>\n",
       "    </tr>\n",
       "    <tr>\n",
       "      <th>3</th>\n",
       "      <td>2020/06/28</td>\n",
       "      <td>NaN</td>\n",
       "      <td>NaN</td>\n",
       "      <td>Laboratory-confirmed case</td>\n",
       "      <td>Female</td>\n",
       "      <td>0 - 9 Years</td>\n",
       "      <td>American Indian/Alaska Native, Non-Hispanic</td>\n",
       "      <td>Missing</td>\n",
       "      <td>Missing</td>\n",
       "      <td>Missing</td>\n",
       "      <td>Missing</td>\n",
       "    </tr>\n",
       "    <tr>\n",
       "      <th>4</th>\n",
       "      <td>2020/07/06</td>\n",
       "      <td>NaN</td>\n",
       "      <td>NaN</td>\n",
       "      <td>Laboratory-confirmed case</td>\n",
       "      <td>Female</td>\n",
       "      <td>0 - 9 Years</td>\n",
       "      <td>American Indian/Alaska Native, Non-Hispanic</td>\n",
       "      <td>Missing</td>\n",
       "      <td>Missing</td>\n",
       "      <td>Missing</td>\n",
       "      <td>Missing</td>\n",
       "    </tr>\n",
       "    <tr>\n",
       "      <th>...</th>\n",
       "      <td>...</td>\n",
       "      <td>...</td>\n",
       "      <td>...</td>\n",
       "      <td>...</td>\n",
       "      <td>...</td>\n",
       "      <td>...</td>\n",
       "      <td>...</td>\n",
       "      <td>...</td>\n",
       "      <td>...</td>\n",
       "      <td>...</td>\n",
       "      <td>...</td>\n",
       "    </tr>\n",
       "    <tr>\n",
       "      <th>2668170</th>\n",
       "      <td>2020/03/18</td>\n",
       "      <td>2020/03/18</td>\n",
       "      <td>NaN</td>\n",
       "      <td>Laboratory-confirmed case</td>\n",
       "      <td>Male</td>\n",
       "      <td>60 - 69 Years</td>\n",
       "      <td>Unknown</td>\n",
       "      <td>Yes</td>\n",
       "      <td>Unknown</td>\n",
       "      <td>Unknown</td>\n",
       "      <td>Yes</td>\n",
       "    </tr>\n",
       "    <tr>\n",
       "      <th>2668171</th>\n",
       "      <td>2020/05/20</td>\n",
       "      <td>2020/03/18</td>\n",
       "      <td>NaN</td>\n",
       "      <td>Laboratory-confirmed case</td>\n",
       "      <td>Male</td>\n",
       "      <td>60 - 69 Years</td>\n",
       "      <td>Unknown</td>\n",
       "      <td>Missing</td>\n",
       "      <td>Missing</td>\n",
       "      <td>No</td>\n",
       "      <td>Missing</td>\n",
       "    </tr>\n",
       "    <tr>\n",
       "      <th>2668172</th>\n",
       "      <td>2020/04/02</td>\n",
       "      <td>2020/03/18</td>\n",
       "      <td>2020/03/15</td>\n",
       "      <td>Laboratory-confirmed case</td>\n",
       "      <td>Male</td>\n",
       "      <td>60 - 69 Years</td>\n",
       "      <td>Unknown</td>\n",
       "      <td>No</td>\n",
       "      <td>Missing</td>\n",
       "      <td>No</td>\n",
       "      <td>Missing</td>\n",
       "    </tr>\n",
       "    <tr>\n",
       "      <th>2668173</th>\n",
       "      <td>2020/03/25</td>\n",
       "      <td>2020/03/18</td>\n",
       "      <td>NaN</td>\n",
       "      <td>Laboratory-confirmed case</td>\n",
       "      <td>Male</td>\n",
       "      <td>60 - 69 Years</td>\n",
       "      <td>Unknown</td>\n",
       "      <td>Unknown</td>\n",
       "      <td>Unknown</td>\n",
       "      <td>Unknown</td>\n",
       "      <td>Yes</td>\n",
       "    </tr>\n",
       "    <tr>\n",
       "      <th>2668174</th>\n",
       "      <td>2020/03/24</td>\n",
       "      <td>2020/03/18</td>\n",
       "      <td>NaN</td>\n",
       "      <td>Laboratory-confirmed case</td>\n",
       "      <td>Male</td>\n",
       "      <td>60 - 69 Years</td>\n",
       "      <td>Unknown</td>\n",
       "      <td>Yes</td>\n",
       "      <td>Unknown</td>\n",
       "      <td>Unknown</td>\n",
       "      <td>Yes</td>\n",
       "    </tr>\n",
       "  </tbody>\n",
       "</table>\n",
       "<p>2668175 rows × 11 columns</p>\n",
       "</div>"
      ],
      "text/plain": [
       "        cdc_report_dt pos_spec_dt    onset_dt             current_status  \\\n",
       "0          2020/07/03         NaN         NaN  Laboratory-confirmed case   \n",
       "1          2020/05/27         NaN         NaN  Laboratory-confirmed case   \n",
       "2          2020/06/06         NaN         NaN  Laboratory-confirmed case   \n",
       "3          2020/06/28         NaN         NaN  Laboratory-confirmed case   \n",
       "4          2020/07/06         NaN         NaN  Laboratory-confirmed case   \n",
       "...               ...         ...         ...                        ...   \n",
       "2668170    2020/03/18  2020/03/18         NaN  Laboratory-confirmed case   \n",
       "2668171    2020/05/20  2020/03/18         NaN  Laboratory-confirmed case   \n",
       "2668172    2020/04/02  2020/03/18  2020/03/15  Laboratory-confirmed case   \n",
       "2668173    2020/03/25  2020/03/18         NaN  Laboratory-confirmed case   \n",
       "2668174    2020/03/24  2020/03/18         NaN  Laboratory-confirmed case   \n",
       "\n",
       "            sex      age_group                Race and ethnicity (combined)  \\\n",
       "0        Female    0 - 9 Years  American Indian/Alaska Native, Non-Hispanic   \n",
       "1        Female    0 - 9 Years  American Indian/Alaska Native, Non-Hispanic   \n",
       "2        Female    0 - 9 Years  American Indian/Alaska Native, Non-Hispanic   \n",
       "3        Female    0 - 9 Years  American Indian/Alaska Native, Non-Hispanic   \n",
       "4        Female    0 - 9 Years  American Indian/Alaska Native, Non-Hispanic   \n",
       "...         ...            ...                                          ...   \n",
       "2668170    Male  60 - 69 Years                                      Unknown   \n",
       "2668171    Male  60 - 69 Years                                      Unknown   \n",
       "2668172    Male  60 - 69 Years                                      Unknown   \n",
       "2668173    Male  60 - 69 Years                                      Unknown   \n",
       "2668174    Male  60 - 69 Years                                      Unknown   \n",
       "\n",
       "         hosp_yn   icu_yn death_yn medcond_yn  \n",
       "0        Missing  Missing  Missing    Missing  \n",
       "1             No  Missing       No    Missing  \n",
       "2        Missing  Missing  Missing    Missing  \n",
       "3        Missing  Missing  Missing    Missing  \n",
       "4        Missing  Missing  Missing    Missing  \n",
       "...          ...      ...      ...        ...  \n",
       "2668170      Yes  Unknown  Unknown        Yes  \n",
       "2668171  Missing  Missing       No    Missing  \n",
       "2668172       No  Missing       No    Missing  \n",
       "2668173  Unknown  Unknown  Unknown        Yes  \n",
       "2668174      Yes  Unknown  Unknown        Yes  \n",
       "\n",
       "[2668175 rows x 11 columns]"
      ]
     },
     "execution_count": 8,
     "metadata": {},
     "output_type": "execute_result"
    }
   ],
   "source": [
    "srcs[\"national_patient\"].df"
   ]
  },
  {
   "cell_type": "markdown",
   "metadata": {},
   "source": [
    "## Cases by age"
   ]
  },
  {
   "cell_type": "code",
   "execution_count": 9,
   "metadata": {},
   "outputs": [
    {
     "data": {
      "text/plain": [
       "20 - 29 Years    17.558264\n",
       "30 - 39 Years    16.889847\n",
       "40 - 49 Years    16.059329\n",
       "50 - 59 Years    16.036354\n",
       "60 - 69 Years    11.530628\n",
       "80+ Years         6.651152\n",
       "70 - 79 Years     6.578291\n",
       "10 - 19 Years     6.047463\n",
       "0 - 9 Years       2.537392\n",
       "Unknown           0.111278\n",
       "Name: age_group, dtype: float64"
      ]
     },
     "execution_count": 9,
     "metadata": {},
     "output_type": "execute_result"
    }
   ],
   "source": [
    "srcs[\"national_patient\"].df.age_group.value_counts(normalize=True) * 100"
   ]
  },
  {
   "cell_type": "code",
   "execution_count": 10,
   "metadata": {},
   "outputs": [
    {
     "data": {
      "text/plain": [
       "<matplotlib.axes._subplots.AxesSubplot at 0x7ffc18681bb0>"
      ]
     },
     "execution_count": 10,
     "metadata": {},
     "output_type": "execute_result"
    },
    {
     "data": {
      "image/png": "[encoded data removed]",
      "text/plain": [
       "<Figure size 432x288 with 1 Axes>"
      ]
     },
     "metadata": {},
     "output_type": "display_data"
    }
   ],
   "source": [
    "srcs[\"national_patient\"].df.age_group.value_counts(normalize=True).plot.pie()"
   ]
  },
  {
   "cell_type": "code",
   "execution_count": 11,
   "metadata": {},
   "outputs": [
    {
     "data": {
      "text/plain": [
       "20 - 29 Years    17.558264\n",
       "30 - 39 Years    16.889847\n",
       "40 - 49 Years    16.059329\n",
       "50 - 59 Years    16.036354\n",
       "60 - 69 Years    11.530628\n",
       "80+ Years         6.651152\n",
       "70 - 79 Years     6.578291\n",
       "10 - 19 Years     6.047463\n",
       "0 - 9 Years       2.537392\n",
       "Unknown           0.111278\n",
       "Name: age_group, dtype: float64"
      ]
     },
     "execution_count": 11,
     "metadata": {},
     "output_type": "execute_result"
    }
   ],
   "source": [
    "srcs[\"national_patient\"].df.age_group.value_counts(normalize=True) * 100"
   ]
  },
  {
   "cell_type": "markdown",
   "metadata": {},
   "source": [
    "## Deaths by age"
   ]
  },
  {
   "cell_type": "code",
   "execution_count": 12,
   "metadata": {},
   "outputs": [
    {
     "data": {
      "text/plain": [
       "80+ Years        45.990406\n",
       "70 - 79 Years    24.250161\n",
       "60 - 69 Years    16.767234\n",
       "50 - 59 Years     8.119020\n",
       "40 - 49 Years     3.108021\n",
       "30 - 39 Years     1.237731\n",
       "20 - 29 Years     0.439964\n",
       "10 - 19 Years     0.047707\n",
       "0 - 9 Years       0.029154\n",
       "Unknown           0.010602\n",
       "Name: age_group, dtype: float64"
      ]
     },
     "execution_count": 12,
     "metadata": {},
     "output_type": "execute_result"
    }
   ],
   "source": [
    "srcs[\"national_patient\"].df[srcs[\"national_patient\"].df.death_yn == \"Yes\"].age_group.value_counts(normalize=True) * 100"
   ]
  },
  {
   "cell_type": "code",
   "execution_count": 13,
   "metadata": {},
   "outputs": [
    {
     "data": {
      "text/plain": [
       "<matplotlib.axes._subplots.AxesSubplot at 0x7ffc90695d90>"
      ]
     },
     "execution_count": 13,
     "metadata": {},
     "output_type": "execute_result"
    },
    {
     "data": {
      "image/png": "[encoded data removed]",
      "text/plain": [
       "<Figure size 432x288 with 1 Axes>"
      ]
     },
     "metadata": {},
     "output_type": "display_data"
    }
   ],
   "source": [
    "srcs[\"national_patient\"].df[srcs[\"national_patient\"].df.death_yn == \"Yes\"].age_group.value_counts(normalize=True).plot.pie()"
   ]
  },
  {
   "cell_type": "markdown",
   "metadata": {},
   "source": [
    "# County data"
   ]
  },
  {
   "cell_type": "code",
   "execution_count": 14,
   "metadata": {},
   "outputs": [],
   "source": [
    "# Mercer, NJ\n",
    "code = \"021\""
   ]
  },
  {
   "cell_type": "code",
   "execution_count": 15,
   "metadata": {},
   "outputs": [
    {
     "data": {
      "text/html": [
       "<div>\n",
       "<style scoped>\n",
       "    .dataframe tbody tr th:only-of-type {\n",
       "        vertical-align: middle;\n",
       "    }\n",
       "\n",
       "    .dataframe tbody tr th {\n",
       "        vertical-align: top;\n",
       "    }\n",
       "\n",
       "    .dataframe thead th {\n",
       "        text-align: right;\n",
       "    }\n",
       "</style>\n",
       "<table border=\"1\" class=\"dataframe\">\n",
       "  <thead>\n",
       "    <tr style=\"text-align: right;\">\n",
       "      <th></th>\n",
       "      <th>countyFIPS</th>\n",
       "      <th>County Name</th>\n",
       "      <th>State</th>\n",
       "      <th>stateFIPS</th>\n",
       "      <th>1/22/20</th>\n",
       "      <th>1/23/20</th>\n",
       "      <th>1/24/20</th>\n",
       "      <th>1/25/20</th>\n",
       "      <th>1/26/20</th>\n",
       "      <th>1/27/20</th>\n",
       "      <th>...</th>\n",
       "      <th>7/26/20</th>\n",
       "      <th>7/27/20</th>\n",
       "      <th>7/28/20</th>\n",
       "      <th>7/29/20</th>\n",
       "      <th>7/30/20</th>\n",
       "      <th>7/31/20</th>\n",
       "      <th>8/1/20</th>\n",
       "      <th>8/2/20</th>\n",
       "      <th>8/3/20</th>\n",
       "      <th>8/4/20</th>\n",
       "    </tr>\n",
       "  </thead>\n",
       "  <tbody>\n",
       "    <tr>\n",
       "      <th>0</th>\n",
       "      <td>0</td>\n",
       "      <td>Statewide Unallocated</td>\n",
       "      <td>AL</td>\n",
       "      <td>1</td>\n",
       "      <td>0</td>\n",
       "      <td>0</td>\n",
       "      <td>0</td>\n",
       "      <td>0</td>\n",
       "      <td>0</td>\n",
       "      <td>0</td>\n",
       "      <td>...</td>\n",
       "      <td>0</td>\n",
       "      <td>0</td>\n",
       "      <td>0</td>\n",
       "      <td>0</td>\n",
       "      <td>0</td>\n",
       "      <td>0</td>\n",
       "      <td>0</td>\n",
       "      <td>0</td>\n",
       "      <td>0</td>\n",
       "      <td>0</td>\n",
       "    </tr>\n",
       "    <tr>\n",
       "      <th>1</th>\n",
       "      <td>1001</td>\n",
       "      <td>Autauga County</td>\n",
       "      <td>AL</td>\n",
       "      <td>1</td>\n",
       "      <td>0</td>\n",
       "      <td>0</td>\n",
       "      <td>0</td>\n",
       "      <td>0</td>\n",
       "      <td>0</td>\n",
       "      <td>0</td>\n",
       "      <td>...</td>\n",
       "      <td>942</td>\n",
       "      <td>965</td>\n",
       "      <td>974</td>\n",
       "      <td>974</td>\n",
       "      <td>1002</td>\n",
       "      <td>1015</td>\n",
       "      <td>1030</td>\n",
       "      <td>1052</td>\n",
       "      <td>1066</td>\n",
       "      <td>1073</td>\n",
       "    </tr>\n",
       "    <tr>\n",
       "      <th>2</th>\n",
       "      <td>1003</td>\n",
       "      <td>Baldwin County</td>\n",
       "      <td>AL</td>\n",
       "      <td>1</td>\n",
       "      <td>0</td>\n",
       "      <td>0</td>\n",
       "      <td>0</td>\n",
       "      <td>0</td>\n",
       "      <td>0</td>\n",
       "      <td>0</td>\n",
       "      <td>...</td>\n",
       "      <td>2708</td>\n",
       "      <td>2770</td>\n",
       "      <td>2835</td>\n",
       "      <td>2835</td>\n",
       "      <td>3028</td>\n",
       "      <td>3101</td>\n",
       "      <td>3142</td>\n",
       "      <td>3223</td>\n",
       "      <td>3265</td>\n",
       "      <td>3320</td>\n",
       "    </tr>\n",
       "    <tr>\n",
       "      <th>3</th>\n",
       "      <td>1005</td>\n",
       "      <td>Barbour County</td>\n",
       "      <td>AL</td>\n",
       "      <td>1</td>\n",
       "      <td>0</td>\n",
       "      <td>0</td>\n",
       "      <td>0</td>\n",
       "      <td>0</td>\n",
       "      <td>0</td>\n",
       "      <td>0</td>\n",
       "      <td>...</td>\n",
       "      <td>562</td>\n",
       "      <td>569</td>\n",
       "      <td>575</td>\n",
       "      <td>575</td>\n",
       "      <td>585</td>\n",
       "      <td>598</td>\n",
       "      <td>602</td>\n",
       "      <td>610</td>\n",
       "      <td>612</td>\n",
       "      <td>614</td>\n",
       "    </tr>\n",
       "    <tr>\n",
       "      <th>4</th>\n",
       "      <td>1007</td>\n",
       "      <td>Bibb County</td>\n",
       "      <td>AL</td>\n",
       "      <td>1</td>\n",
       "      <td>0</td>\n",
       "      <td>0</td>\n",
       "      <td>0</td>\n",
       "      <td>0</td>\n",
       "      <td>0</td>\n",
       "      <td>0</td>\n",
       "      <td>...</td>\n",
       "      <td>324</td>\n",
       "      <td>334</td>\n",
       "      <td>337</td>\n",
       "      <td>338</td>\n",
       "      <td>352</td>\n",
       "      <td>363</td>\n",
       "      <td>368</td>\n",
       "      <td>372</td>\n",
       "      <td>382</td>\n",
       "      <td>389</td>\n",
       "    </tr>\n",
       "    <tr>\n",
       "      <th>...</th>\n",
       "      <td>...</td>\n",
       "      <td>...</td>\n",
       "      <td>...</td>\n",
       "      <td>...</td>\n",
       "      <td>...</td>\n",
       "      <td>...</td>\n",
       "      <td>...</td>\n",
       "      <td>...</td>\n",
       "      <td>...</td>\n",
       "      <td>...</td>\n",
       "      <td>...</td>\n",
       "      <td>...</td>\n",
       "      <td>...</td>\n",
       "      <td>...</td>\n",
       "      <td>...</td>\n",
       "      <td>...</td>\n",
       "      <td>...</td>\n",
       "      <td>...</td>\n",
       "      <td>...</td>\n",
       "      <td>...</td>\n",
       "      <td>...</td>\n",
       "    </tr>\n",
       "    <tr>\n",
       "      <th>3190</th>\n",
       "      <td>56037</td>\n",
       "      <td>Sweetwater County</td>\n",
       "      <td>WY</td>\n",
       "      <td>56</td>\n",
       "      <td>0</td>\n",
       "      <td>0</td>\n",
       "      <td>0</td>\n",
       "      <td>0</td>\n",
       "      <td>0</td>\n",
       "      <td>0</td>\n",
       "      <td>...</td>\n",
       "      <td>215</td>\n",
       "      <td>221</td>\n",
       "      <td>228</td>\n",
       "      <td>234</td>\n",
       "      <td>237</td>\n",
       "      <td>240</td>\n",
       "      <td>242</td>\n",
       "      <td>247</td>\n",
       "      <td>250</td>\n",
       "      <td>251</td>\n",
       "    </tr>\n",
       "    <tr>\n",
       "      <th>3191</th>\n",
       "      <td>56039</td>\n",
       "      <td>Teton County</td>\n",
       "      <td>WY</td>\n",
       "      <td>56</td>\n",
       "      <td>0</td>\n",
       "      <td>0</td>\n",
       "      <td>0</td>\n",
       "      <td>0</td>\n",
       "      <td>0</td>\n",
       "      <td>0</td>\n",
       "      <td>...</td>\n",
       "      <td>279</td>\n",
       "      <td>292</td>\n",
       "      <td>311</td>\n",
       "      <td>318</td>\n",
       "      <td>331</td>\n",
       "      <td>335</td>\n",
       "      <td>348</td>\n",
       "      <td>354</td>\n",
       "      <td>358</td>\n",
       "      <td>362</td>\n",
       "    </tr>\n",
       "    <tr>\n",
       "      <th>3192</th>\n",
       "      <td>56041</td>\n",
       "      <td>Uinta County</td>\n",
       "      <td>WY</td>\n",
       "      <td>56</td>\n",
       "      <td>0</td>\n",
       "      <td>0</td>\n",
       "      <td>0</td>\n",
       "      <td>0</td>\n",
       "      <td>0</td>\n",
       "      <td>0</td>\n",
       "      <td>...</td>\n",
       "      <td>233</td>\n",
       "      <td>235</td>\n",
       "      <td>243</td>\n",
       "      <td>245</td>\n",
       "      <td>247</td>\n",
       "      <td>254</td>\n",
       "      <td>259</td>\n",
       "      <td>262</td>\n",
       "      <td>265</td>\n",
       "      <td>267</td>\n",
       "    </tr>\n",
       "    <tr>\n",
       "      <th>3193</th>\n",
       "      <td>56043</td>\n",
       "      <td>Washakie County</td>\n",
       "      <td>WY</td>\n",
       "      <td>56</td>\n",
       "      <td>0</td>\n",
       "      <td>0</td>\n",
       "      <td>0</td>\n",
       "      <td>0</td>\n",
       "      <td>0</td>\n",
       "      <td>0</td>\n",
       "      <td>...</td>\n",
       "      <td>45</td>\n",
       "      <td>45</td>\n",
       "      <td>45</td>\n",
       "      <td>45</td>\n",
       "      <td>46</td>\n",
       "      <td>48</td>\n",
       "      <td>49</td>\n",
       "      <td>49</td>\n",
       "      <td>49</td>\n",
       "      <td>54</td>\n",
       "    </tr>\n",
       "    <tr>\n",
       "      <th>3194</th>\n",
       "      <td>56045</td>\n",
       "      <td>Weston County</td>\n",
       "      <td>WY</td>\n",
       "      <td>56</td>\n",
       "      <td>0</td>\n",
       "      <td>0</td>\n",
       "      <td>0</td>\n",
       "      <td>0</td>\n",
       "      <td>0</td>\n",
       "      <td>0</td>\n",
       "      <td>...</td>\n",
       "      <td>4</td>\n",
       "      <td>5</td>\n",
       "      <td>5</td>\n",
       "      <td>5</td>\n",
       "      <td>5</td>\n",
       "      <td>5</td>\n",
       "      <td>5</td>\n",
       "      <td>5</td>\n",
       "      <td>5</td>\n",
       "      <td>5</td>\n",
       "    </tr>\n",
       "  </tbody>\n",
       "</table>\n",
       "<p>3195 rows × 200 columns</p>\n",
       "</div>"
      ],
      "text/plain": [
       "      countyFIPS            County Name State  stateFIPS  1/22/20  1/23/20  \\\n",
       "0              0  Statewide Unallocated    AL          1        0        0   \n",
       "1           1001         Autauga County    AL          1        0        0   \n",
       "2           1003         Baldwin County    AL          1        0        0   \n",
       "3           1005         Barbour County    AL          1        0        0   \n",
       "4           1007            Bibb County    AL          1        0        0   \n",
       "...          ...                    ...   ...        ...      ...      ...   \n",
       "3190       56037      Sweetwater County    WY         56        0        0   \n",
       "3191       56039           Teton County    WY         56        0        0   \n",
       "3192       56041           Uinta County    WY         56        0        0   \n",
       "3193       56043        Washakie County    WY         56        0        0   \n",
       "3194       56045          Weston County    WY         56        0        0   \n",
       "\n",
       "      1/24/20  1/25/20  1/26/20  1/27/20  ...  7/26/20  7/27/20  7/28/20  \\\n",
       "0           0        0        0        0  ...        0        0        0   \n",
       "1           0        0        0        0  ...      942      965      974   \n",
       "2           0        0        0        0  ...     2708     2770     2835   \n",
       "3           0        0        0        0  ...      562      569      575   \n",
       "4           0        0        0        0  ...      324      334      337   \n",
       "...       ...      ...      ...      ...  ...      ...      ...      ...   \n",
       "3190        0        0        0        0  ...      215      221      228   \n",
       "3191        0        0        0        0  ...      279      292      311   \n",
       "3192        0        0        0        0  ...      233      235      243   \n",
       "3193        0        0        0        0  ...       45       45       45   \n",
       "3194        0        0        0        0  ...        4        5        5   \n",
       "\n",
       "      7/29/20  7/30/20  7/31/20  8/1/20  8/2/20  8/3/20  8/4/20  \n",
       "0           0        0        0       0       0       0       0  \n",
       "1         974     1002     1015    1030    1052    1066    1073  \n",
       "2        2835     3028     3101    3142    3223    3265    3320  \n",
       "3         575      585      598     602     610     612     614  \n",
       "4         338      352      363     368     372     382     389  \n",
       "...       ...      ...      ...     ...     ...     ...     ...  \n",
       "3190      234      237      240     242     247     250     251  \n",
       "3191      318      331      335     348     354     358     362  \n",
       "3192      245      247      254     259     262     265     267  \n",
       "3193       45       46       48      49      49      49      54  \n",
       "3194        5        5        5       5       5       5       5  \n",
       "\n",
       "[3195 rows x 200 columns]"
      ]
     },
     "execution_count": 15,
     "metadata": {},
     "output_type": "execute_result"
    }
   ],
   "source": [
    "srcs[\"county_case\"].df"
   ]
  },
  {
   "cell_type": "code",
   "execution_count": 16,
   "metadata": {},
   "outputs": [],
   "source": [
    "cases = srcs[\"county_case\"].df[srcs[\"county_case\"].df.countyFIPS == 34021]\n",
    "deaths = srcs[\"county_death\"].df[srcs[\"county_death\"].df.countyFIPS == 34021]"
   ]
  },
  {
   "cell_type": "code",
   "execution_count": 17,
   "metadata": {},
   "outputs": [],
   "source": [
    "cases = cases.drop(labels=[\"countyFIPS\", \"County Name\", \"State\", \"stateFIPS\"], axis=1)\n",
    "deaths = deaths.drop(labels=[\"countyFIPS\", \"County Name\", \"State\", \"stateFIPS\"], axis=1)"
   ]
  },
  {
   "cell_type": "code",
   "execution_count": 18,
   "metadata": {},
   "outputs": [
    {
     "data": {
      "text/plain": [
       "<matplotlib.axes._subplots.AxesSubplot at 0x7ffc81756490>"
      ]
     },
     "execution_count": 18,
     "metadata": {},
     "output_type": "execute_result"
    },
    {
     "data": {
      "image/png": "[encoded data removed]",
      "text/plain": [
       "<Figure size 432x288 with 1 Axes>"
      ]
     },
     "metadata": {
      "needs_background": "light"
     },
     "output_type": "display_data"
    }
   ],
   "source": [
    "cases.T.plot()"
   ]
  },
  {
   "cell_type": "code",
   "execution_count": 19,
   "metadata": {},
   "outputs": [
    {
     "data": {
      "text/plain": [
       "<matplotlib.axes._subplots.AxesSubplot at 0x7ffc18da5970>"
      ]
     },
     "execution_count": 19,
     "metadata": {},
     "output_type": "execute_result"
    },
    {
     "data": {
      "image/png": "[encoded data removed]",
      "text/plain": [
       "<Figure size 432x288 with 1 Axes>"
      ]
     },
     "metadata": {
      "needs_background": "light"
     },
     "output_type": "display_data"
    }
   ],
   "source": [
    "deaths.T.plot()"
   ]
  },
  {
   "cell_type": "markdown",
   "metadata": {},
   "source": [
    "# Princeton data"
   ]
  },
  {
   "cell_type": "code",
   "execution_count": 20,
   "metadata": {},
   "outputs": [
    {
     "data": {
      "text/plain": [
       "<matplotlib.axes._subplots.AxesSubplot at 0x7ffc18d96040>"
      ]
     },
     "execution_count": 20,
     "metadata": {},
     "output_type": "execute_result"
    },
    {
     "data": {
      "image/png": "[encoded data removed]",
      "text/plain": [
       "<Figure size 432x288 with 1 Axes>"
      ]
     },
     "metadata": {
      "needs_background": "light"
     },
     "output_type": "display_data"
    }
   ],
   "source": [
    "srcs[\"princeton\"].df[[\"total_positive\", \"total_deaths\"]].iloc[::-1].plot()"
   ]
  },
  {
   "cell_type": "code",
   "execution_count": 148,
   "metadata": {},
   "outputs": [],
   "source": [
    "deaths = {\n",
    "    \"local\": srcs[\"princeton\"].df.total_deaths.iloc[::-1].rename(\"local\"),\n",
    "    \"county\": srcs[\"county_death\"].df[srcs[\"county_death\"].df.countyFIPS == 34021].drop(columns=[\"countyFIPS\", \"County Name\", \"State\", \"stateFIPS\"]).T.iloc[:, 0].rename(\"county\"),\n",
    "    \"state\": srcs[\"county_death\"].df[srcs[\"county_death\"].df.State == \"NJ\"].drop(columns=[\"countyFIPS\", \"County Name\", \"State\", \"stateFIPS\"]).sum(axis=0).rename(\"state\"),\n",
    "    \"national\": srcs[\"county_death\"].df.drop(columns=[\"countyFIPS\", \"County Name\", \"State\", \"stateFIPS\"]).sum(axis=0).rename(\"national\")\n",
    "}\n",
    "    "
   ]
  },
  {
   "cell_type": "code",
   "execution_count": 149,
   "metadata": {},
   "outputs": [
    {
     "name": "stderr",
     "output_type": "stream",
     "text": [
      "/Users/dsuo/miniconda3/envs/provid/lib/python3.8/site-packages/pandas/core/indexing.py:671: SettingWithCopyWarning: \n",
      "A value is trying to be set on a copy of a slice from a DataFrame\n",
      "\n",
      "See the caveats in the documentation: https://pandas.pydata.org/pandas-docs/stable/user_guide/indexing.html#returning-a-view-versus-a-copy\n",
      "  self._setitem_with_indexer(indexer, value)\n"
     ]
    }
   ],
   "source": [
    "deaths_table = None\n",
    "for geo in [\"local\", \"county\", \"state\", \"national\"]:\n",
    "    deaths[geo].index = pd.to_datetime(deaths[geo].index)\n",
    "    if geo == \"local\":\n",
    "        deaths_table = pd.DataFrame(deaths[geo])\n",
    "    else:\n",
    "        deaths_table = pd.merge(deaths_table, deaths[geo], how=\"outer\", left_index=True, right_index=True)\n",
    "\n",
    "for geo in [\"local\", \"county\", \"state\", \"national\"]:\n",
    "    deaths_table[geo].iloc[:np.argmin(deaths_table[geo])] = 0\n",
    "    \n",
    "deaths_table = deaths_table.interpolate(method=\"time\", limit_direction=\"both\")"
   ]
  },
  {
   "cell_type": "code",
   "execution_count": 150,
   "metadata": {},
   "outputs": [
    {
     "data": {
      "text/plain": [
       "<matplotlib.axes._subplots.AxesSubplot at 0x7ffc50f1fac0>"
      ]
     },
     "execution_count": 150,
     "metadata": {},
     "output_type": "execute_result"
    },
    {
     "data": {
      "image/png": "[encoded data removed]",
      "text/plain": [
       "<Figure size 432x288 with 1 Axes>"
      ]
     },
     "metadata": {
      "needs_background": "light"
     },
     "output_type": "display_data"
    }
   ],
   "source": [
    "deaths_table.plot()"
   ]
  },
  {
   "cell_type": "code",
   "execution_count": 84,
   "metadata": {},
   "outputs": [],
   "source": [
    "cases = {\n",
    "    \"local\": srcs[\"princeton\"].df.total_positive.iloc[::-1].rename(\"local\"),\n",
    "    \"county\": srcs[\"county_case\"].df[srcs[\"county_case\"].df.countyFIPS == 34021].drop(columns=[\"countyFIPS\", \"County Name\", \"State\", \"stateFIPS\"]).T.iloc[:, 0].rename(\"county\"),\n",
    "    \"state\": srcs[\"county_case\"].df[srcs[\"county_case\"].df.State == \"NJ\"].drop(columns=[\"countyFIPS\", \"County Name\", \"State\", \"stateFIPS\"]).sum(axis=0).rename(\"state\"),\n",
    "    \"national\": srcs[\"county_case\"].df.drop(columns=[\"countyFIPS\", \"County Name\", \"State\", \"stateFIPS\"]).sum(axis=0).rename(\"national\")\n",
    "}\n",
    "    "
   ]
  },
  {
   "cell_type": "code",
   "execution_count": 151,
   "metadata": {},
   "outputs": [
    {
     "name": "stderr",
     "output_type": "stream",
     "text": [
      "/Users/dsuo/miniconda3/envs/provid/lib/python3.8/site-packages/pandas/core/indexing.py:671: SettingWithCopyWarning: \n",
      "A value is trying to be set on a copy of a slice from a DataFrame\n",
      "\n",
      "See the caveats in the documentation: https://pandas.pydata.org/pandas-docs/stable/user_guide/indexing.html#returning-a-view-versus-a-copy\n",
      "  self._setitem_with_indexer(indexer, value)\n"
     ]
    }
   ],
   "source": [
    "cases_table = None\n",
    "for geo in [\"local\", \"county\", \"state\", \"national\"]:\n",
    "    cases[geo].index = pd.to_datetime(cases[geo].index)\n",
    "    if geo == \"local\":\n",
    "        cases_table = cases[geo]\n",
    "    else:\n",
    "        cases_table = pd.merge(cases_table, cases[geo], how=\"outer\", left_index=True, right_index=True)\n",
    "        \n",
    "for geo in [\"local\", \"county\", \"state\", \"national\"]:\n",
    "    cases_table[geo].iloc[:np.argmin(cases_table[geo])] = 0\n",
    "    \n",
    "cases_table = cases_table.interpolate(method=\"time\", limit_direction=\"both\")"
   ]
  },
  {
   "cell_type": "code",
   "execution_count": 152,
   "metadata": {
    "scrolled": true
   },
   "outputs": [
    {
     "data": {
      "text/plain": [
       "<matplotlib.axes._subplots.AxesSubplot at 0x7ffca0bb7ca0>"
      ]
     },
     "execution_count": 152,
     "metadata": {},
     "output_type": "execute_result"
    },
    {
     "data": {
      "image/png": "[encoded data removed]",
      "text/plain": [
       "<Figure size 432x288 with 1 Axes>"
      ]
     },
     "metadata": {
      "needs_background": "light"
     },
     "output_type": "display_data"
    }
   ],
   "source": [
    "cases_table.local.plot()"
   ]
  },
  {
   "cell_type": "code",
   "execution_count": null,
   "metadata": {},
   "outputs": [],
   "source": []
  }
 ],
 "metadata": {
  "kernelspec": {
   "display_name": "Python 3",
   "language": "python",
   "name": "python3"
  },
  "language_info": {
   "codemirror_mode": {
    "name": "ipython",
    "version": 3
   },
   "file_extension": ".py",
   "mimetype": "text/x-python",
   "name": "python",
   "nbconvert_exporter": "python",
   "pygments_lexer": "ipython3",
   "version": "3.8.3"
  }
 },
 "nbformat": 4,
 "nbformat_minor": 4
}
